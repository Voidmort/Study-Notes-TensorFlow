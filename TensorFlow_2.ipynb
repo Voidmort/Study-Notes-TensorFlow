{
  "nbformat": 4,
  "nbformat_minor": 0,
  "metadata": {
    "colab": {
      "name": "TensorFlow 2.ipynb",
      "version": "0.3.2",
      "provenance": [],
      "collapsed_sections": [],
      "toc_visible": true,
      "include_colab_link": true
    },
    "kernelspec": {
      "name": "python3",
      "display_name": "Python 3"
    }
  },
  "cells": [
    {
      "cell_type": "markdown",
      "metadata": {
        "id": "view-in-github",
        "colab_type": "text"
      },
      "source": [
        "<a href=\"https://colab.research.google.com/github/Voidmort/Study-Notes-TensorFlow/blob/master/TensorFlow_2.ipynb\" target=\"_parent\"><img src=\"https://colab.research.google.com/assets/colab-badge.svg\" alt=\"Open In Colab\"/></a>"
      ]
    },
    {
      "metadata": {
        "id": "AroYEjCxmWoD",
        "colab_type": "text"
      },
      "cell_type": "markdown",
      "source": [
        "---\n",
        "title: TensorFlow 2\n",
        "date: 2018-12-28 15:10:00\n",
        "tags: Tensorflow\n",
        "categories: Tensorflow\n",
        "---"
      ]
    },
    {
      "metadata": {
        "id": "cT6qM_Vt1pIx",
        "colab_type": "text"
      },
      "cell_type": "markdown",
      "source": [
        "# 创建和控制张量\n",
        "\n",
        "## 矢量加法\n",
        "\n",
        "可以对张量执行金典的数学运算，试着创建一些矢量。"
      ]
    },
    {
      "metadata": {
        "id": "5SnbSw6llCJ0",
        "colab_type": "code",
        "outputId": "cf16dbd7-b263-4022-a064-18ca6a7c8234",
        "colab": {
          "base_uri": "https://localhost:8080/",
          "height": 102
        }
      },
      "cell_type": "code",
      "source": [
        "from __future__ import print_function\n",
        "\n",
        "import tensorflow as tf\n",
        "try:\n",
        "  tf.contrib.eager.enable_eager_execution()\n",
        "  print(\"TF imported with eager execution!\")\n",
        "except ValueError:\n",
        "  print(\"TF already imported with eager execution!\")\n",
        "\n",
        "# 一个包含质数的‘primes’矢量\n",
        "primes = tf.constant([2, 3, 5, 7, 11 ,13], dtype=tf.int32)\n",
        "print(\"primes:\", primes)\n",
        "\n",
        "# 一个值全为 1 的 ones 矢量\n",
        "ones = tf.ones([6], dtype=tf.int32)\n",
        "print(ones)\n",
        "\n",
        "# 一个通过对前两个矢量执行元素级加法而创建的矢量。\n",
        "just_beyond_primes = tf.add(primes, ones)\n",
        "print(just_beyond_primes)\n",
        "\n",
        "# 把primes中的元素乘二\n",
        "twos = tf.constant([2, 2, 2, 2, 2, 2], dtype=tf.int32)\n",
        "primes_doubled = primes * twos\n",
        "print(primes_doubled)"
      ],
      "execution_count": 0,
      "outputs": [
        {
          "output_type": "stream",
          "text": [
            "TF imported with eager execution!\n",
            "primes: tf.Tensor([ 2  3  5  7 11 13], shape=(6,), dtype=int32)\n",
            "tf.Tensor([1 1 1 1 1 1], shape=(6,), dtype=int32)\n",
            "tf.Tensor([ 3  4  6  8 12 14], shape=(6,), dtype=int32)\n",
            "tf.Tensor([ 4  6 10 14 22 26], shape=(6,), dtype=int32)\n"
          ],
          "name": "stdout"
        }
      ]
    },
    {
      "metadata": {
        "id": "C78VGpXau_jI",
        "colab_type": "text"
      },
      "cell_type": "markdown",
      "source": [
        "输出的张量不仅会返回值，还会返回形状shape，以及储存在张量中的值的类型。调用numpy方法会以NumPy数组的形式返回。"
      ]
    },
    {
      "metadata": {
        "id": "JcGBhnB1vgFA",
        "colab_type": "code",
        "outputId": "cbb8a252-dd78-40bf-dddc-55ac458fb96c",
        "colab": {
          "base_uri": "https://localhost:8080/",
          "height": 136
        }
      },
      "cell_type": "code",
      "source": [
        "some_matrix = tf.constant([[1, 2, 3], [4, 5, 6]], dtype=tf.int32)\n",
        "print(some_matrix)\n",
        "print(\"\\nnumpy matrix:\\n\", some_matrix.numpy())"
      ],
      "execution_count": 0,
      "outputs": [
        {
          "output_type": "stream",
          "text": [
            "tf.Tensor(\n",
            "[[1 2 3]\n",
            " [4 5 6]], shape=(2, 3), dtype=int32)\n",
            "\n",
            "numpy matrix:\n",
            " [[1 2 3]\n",
            " [4 5 6]]\n"
          ],
          "name": "stdout"
        }
      ]
    },
    {
      "metadata": {
        "id": "reNCF-6ovffE",
        "colab_type": "text"
      },
      "cell_type": "markdown",
      "source": [
        "## 张量形状\n",
        "\n",
        "shape 是用来描述张量维度大小和数量。张量的形状表示为list，其中第 `i` 个元素表示维度 `i` 的大小。列表的长度表示张量的阶（即维数）。\n",
        "\n",
        "如果是二维的则shape=(行数， 列数)\n",
        "\n",
        "例如shape=(n1, n2, n3, ..., x, y)\n",
        "则说明 一共有 (n1 x n2 x n3 x ....)个x行y列的数组构成。\n",
        "\n",
        "例："
      ]
    },
    {
      "metadata": {
        "id": "CP73ootv0hS_",
        "colab_type": "code",
        "outputId": "71ac8ffe-e353-47ac-bc01-3f1d8652a069",
        "colab": {
          "base_uri": "https://localhost:8080/",
          "height": 663
        }
      },
      "cell_type": "code",
      "source": [
        "# 一个标量\n",
        "scalar = tf.zeros([])\n",
        "\n",
        "# 一个有三个元素的向量\n",
        "vector = tf.zeros([3])\n",
        "\n",
        "# 一个两行三列的矩阵\n",
        "matrix = tf.zeros([2, 3])\n",
        "\n",
        "matrix2 = tf.zeros([2, 3, 4, 5])\n",
        "\n",
        "print('scalar has shape', scalar.get_shape(), 'and value:\\n', scalar.numpy())\n",
        "print('vector has shape', vector.get_shape(), 'and value:\\n', vector.numpy())\n",
        "print('matrix has shape', matrix.get_shape(), 'and value:\\n', matrix.numpy())\n",
        "print('matrix2 has shape', matrix2.get_shape(), 'and value:\\n', matrix2.numpy())\n"
      ],
      "execution_count": 0,
      "outputs": [
        {
          "output_type": "stream",
          "text": [
            "scalar has shape () and value:\n",
            " 0.0\n",
            "vector has shape (3,) and value:\n",
            " [0. 0. 0.]\n",
            "matrix has shape (2, 3) and value:\n",
            " [[0. 0. 0.]\n",
            " [0. 0. 0.]]\n",
            "matrix2 has shape (2, 3, 4, 5) and value:\n",
            " [[[[0. 0. 0. 0. 0.]\n",
            "   [0. 0. 0. 0. 0.]\n",
            "   [0. 0. 0. 0. 0.]\n",
            "   [0. 0. 0. 0. 0.]]\n",
            "\n",
            "  [[0. 0. 0. 0. 0.]\n",
            "   [0. 0. 0. 0. 0.]\n",
            "   [0. 0. 0. 0. 0.]\n",
            "   [0. 0. 0. 0. 0.]]\n",
            "\n",
            "  [[0. 0. 0. 0. 0.]\n",
            "   [0. 0. 0. 0. 0.]\n",
            "   [0. 0. 0. 0. 0.]\n",
            "   [0. 0. 0. 0. 0.]]]\n",
            "\n",
            "\n",
            " [[[0. 0. 0. 0. 0.]\n",
            "   [0. 0. 0. 0. 0.]\n",
            "   [0. 0. 0. 0. 0.]\n",
            "   [0. 0. 0. 0. 0.]]\n",
            "\n",
            "  [[0. 0. 0. 0. 0.]\n",
            "   [0. 0. 0. 0. 0.]\n",
            "   [0. 0. 0. 0. 0.]\n",
            "   [0. 0. 0. 0. 0.]]\n",
            "\n",
            "  [[0. 0. 0. 0. 0.]\n",
            "   [0. 0. 0. 0. 0.]\n",
            "   [0. 0. 0. 0. 0.]\n",
            "   [0. 0. 0. 0. 0.]]]]\n"
          ],
          "name": "stdout"
        }
      ]
    },
    {
      "metadata": {
        "id": "uaVOssxw1cS2",
        "colab_type": "text"
      },
      "cell_type": "markdown",
      "source": [
        "## 广播\n",
        "\n",
        "在数学中，您只能对形状相同的张量执行元素级运算（例如，*相加*和*等于*）。不过，在 TensorFlow 中，您可以对张量执行传统意义上不可行的运算。TensorFlow 支持**广播**（一种借鉴自 NumPy 的概念）。利用广播，元素级运算中的较小数组会增大到与较大数组具有相同的形状。例如，通过广播：\n",
        "\n",
        "* 如果运算需要大小为 `[6]` 的张量，则大小为 `[1]` 或 `[]` 的张量可以作为运算数。\n",
        "* 如果运算需要大小为 `[4, 6]` 的张量，则以下任何大小的张量都可以作为运算数：\n",
        "  * `[1, 6]`\n",
        "  * `[6]`\n",
        "  * `[]`\n",
        "* 如果运算需要大小为 `[3, 5, 6]` 的张量，则以下任何大小的张量都可以作为运算数：\n",
        "\n",
        "  * `[1, 5, 6]`\n",
        "  * `[3, 1, 6]`\n",
        "  * `[3, 5, 1]`\n",
        "  * `[1, 1, 1]`\n",
        "  * `[5, 6]`\n",
        "  * `[1, 6]`\n",
        "  * `[6]`\n",
        "  * `[1]`\n",
        "  * `[]`\n",
        "\n",
        "\n",
        "\n",
        "**注意：**当张量被广播时，从概念上来说，系统会**复制**其条目（出于性能考虑，实际并不复制。广播专为实现性能优化而设计）。\n",
        "\n",
        "有关完整的广播规则集，请参阅简单易懂的 [NumPy 广播文档](http://docs.scipy.org/doc/numpy-1.10.1/user/basics.broadcasting.html)。\n",
        "\n",
        "以下代码执行了与之前一样的张量运算，不过使用的是标量值（而不是全包含 `1` 或全包含 `2` 的矢量）和广播。"
      ]
    },
    {
      "metadata": {
        "id": "69wNstHh6FU6",
        "colab_type": "code",
        "outputId": "141bd3be-077b-4e46-f62a-a0e8ebfce879",
        "colab": {
          "base_uri": "https://localhost:8080/",
          "height": 85
        }
      },
      "cell_type": "code",
      "source": [
        "primes = tf.constant([2, 3, 5, 7, 11, 13], dtype=tf.int32)\n",
        "print(\"primes:\", primes)\n",
        "\n",
        "one = tf.constant(1, dtype=tf.int32)\n",
        "print(\"one:\", one)\n",
        "\n",
        "just_beyond_primes = tf.add(primes, one)\n",
        "print(\"just_beyond_primes:\", just_beyond_primes)\n",
        "\n",
        "two = tf.constant(2, dtype=tf.int32)\n",
        "primes_doubled = primes * two\n",
        "print(primes_doubled)"
      ],
      "execution_count": 0,
      "outputs": [
        {
          "output_type": "stream",
          "text": [
            "primes: tf.Tensor([ 2  3  5  7 11 13], shape=(6,), dtype=int32)\n",
            "one: tf.Tensor(1, shape=(), dtype=int32)\n",
            "just_beyond_primes: tf.Tensor([ 3  4  6  8 12 14], shape=(6,), dtype=int32)\n",
            "tf.Tensor([ 4  6 10 14 22 26], shape=(6,), dtype=int32)\n"
          ],
          "name": "stdout"
        }
      ]
    },
    {
      "metadata": {
        "id": "lGDjFku38336",
        "colab_type": "text"
      },
      "cell_type": "markdown",
      "source": [
        "### 练习 1：矢量运算。\n",
        "\n",
        "执行矢量运算以创建一个“just_under_primes_squared”矢量，其中第 `i` 个元素等于 `primes` 中第 `i` 个元素的平方减 1。例如，第二个元素为 `3 * 3 - 1 = 8`。\n",
        "\n",
        "使用 `tf.multiply` 或 `tf.pow` 操作可求得 `primes` 矢量中每个元素值的平方。"
      ]
    },
    {
      "metadata": {
        "id": "beXOGlLk87fg",
        "colab_type": "code",
        "outputId": "fdb2f679-f770-459e-f2b3-f76cda1cb9a5",
        "colab": {
          "base_uri": "https://localhost:8080/",
          "height": 34
        }
      },
      "cell_type": "code",
      "source": [
        "def solution(primes):\n",
        "    primes_squared = tf.pow(primes, 2)  # or tf.multiply(primes, primes)\n",
        "    one = tf.constant(1, dtype=tf.int32)\n",
        "    just_under_primes_squared = tf.subtract(primes_squared, one)\n",
        "    return just_under_primes_squared\n",
        "\n",
        "primes = tf.constant([2, 3, 5, 7, 11, 13], dtype=tf.int32)\n",
        "just_under_primes_squared = solution(primes)\n",
        "print(just_under_primes_squared)"
      ],
      "execution_count": 0,
      "outputs": [
        {
          "output_type": "stream",
          "text": [
            "tf.Tensor([  3   8  24  48 120 168], shape=(6,), dtype=int32)\n"
          ],
          "name": "stdout"
        }
      ]
    },
    {
      "metadata": {
        "id": "EdB-ZBoEA6Yz",
        "colab_type": "text"
      },
      "cell_type": "markdown",
      "source": [
        "## 矩阵乘法\n",
        "\n",
        "在线性代数中，当两个矩阵相乘时，第一个矩阵的*列*数必须等于第二个矩阵的*行*数。\n",
        "\n",
        "- `3x4` 矩阵乘以 `4x2` 矩阵是**_有效_**的，可以得出一个 `3x2` 矩阵。\n",
        "- `4x2` 矩阵乘以 `3x4` 矩阵是*_无效_**的。\n"
      ]
    },
    {
      "metadata": {
        "id": "0dwOSJH_BbmX",
        "colab_type": "code",
        "outputId": "0aa89cdb-9377-40d9-dfd9-db2b7271d2cf",
        "colab": {
          "base_uri": "https://localhost:8080/",
          "height": 85
        }
      },
      "cell_type": "code",
      "source": [
        "# 一个3x4的矩阵\n",
        "x = tf.constant([[5, 2, 4, 3], [5, 1, 6, -2], [-1, 3, -1, -2]],\n",
        "                dtype=tf.int32)\n",
        "\n",
        "# 一个4x2的矩阵\n",
        "y = tf.constant([[2, 2], [3, 5], [4, 5], [1, 6]], dtype=tf.int32)\n",
        "\n",
        "# 结果是一个3x2的矩阵\n",
        "matrix_multiply_result = tf.matmul(x, y)\n",
        "\n",
        "print(matrix_multiply_result)"
      ],
      "execution_count": 0,
      "outputs": [
        {
          "output_type": "stream",
          "text": [
            "tf.Tensor(\n",
            "[[35 58]\n",
            " [35 33]\n",
            " [ 1 -4]], shape=(3, 2), dtype=int32)\n"
          ],
          "name": "stdout"
        }
      ]
    },
    {
      "metadata": {
        "id": "0EPoHmPiBetS",
        "colab_type": "text"
      },
      "cell_type": "markdown",
      "source": [
        "## 张量变形\n",
        "\n",
        "由于张量加法和矩阵乘法均对运算数施加了限制条件，TensorFlow 编程者需要频繁改变张量的形状。\n",
        "\n",
        "您可以使用 `tf.reshape` 方法改变张量的形状。\n",
        "例如，您可以将 8x2 张量变形为 2x8 张量或 4x4 张量(改变形状形成的新矩阵元素数和之前必须一样)：\n",
        "\n",
        "\n",
        "此外，您还可以使用 `tf.reshape` 更改张量的维数（“阶”）。\n",
        "例如，您可以将 8x2 张量变形为三维 2x2x4 张量或一维 16 元素张量。"
      ]
    },
    {
      "metadata": {
        "id": "JhmQrxusBleM",
        "colab_type": "code",
        "outputId": "b267d498-8d6d-41a8-f2ca-44c5ebe368e7",
        "colab": {
          "base_uri": "https://localhost:8080/",
          "height": 442
        }
      },
      "cell_type": "code",
      "source": [
        "# 创建一个8x2的矩阵\n",
        "matrix = tf.constant(\n",
        "    [[1, 2], [3, 4], [5, 6], [7, 8], [9, 10], [11, 12], [13, 14], [15, 16]],\n",
        "    dtype=tf.int32)\n",
        "\n",
        "reshaped_2x8_matrix = tf.reshape(matrix, [2, 8])\n",
        "reshaped_4x4_matrix = tf.reshape(matrix, [4, 4])\n",
        "\n",
        "print(\"Original matrix (8x2):\")\n",
        "print(matrix.numpy())\n",
        "print(\"Reshaped matrix (2x8):\")\n",
        "print(reshaped_2x8_matrix.numpy())\n",
        "print(\"Reshaped matrix (4x4):\")\n",
        "print(reshaped_4x4_matrix.numpy())\n",
        "\n",
        "reshaped_2x2x4_tensor = tf.reshape(matrix, [2, 2, 4])\n",
        "one_dimensional_vector = tf.reshape(matrix, [16])\n",
        "print(\"Reshaped 3-D tensor (2x2x4):\")\n",
        "print(reshaped_2x2x4_tensor.numpy())\n",
        "print(\"1-D vector:\")\n",
        "print(one_dimensional_vector.numpy())"
      ],
      "execution_count": 0,
      "outputs": [
        {
          "output_type": "stream",
          "text": [
            "Original matrix (8x2):\n",
            "[[ 1  2]\n",
            " [ 3  4]\n",
            " [ 5  6]\n",
            " [ 7  8]\n",
            " [ 9 10]\n",
            " [11 12]\n",
            " [13 14]\n",
            " [15 16]]\n",
            "Reshaped matrix (2x8):\n",
            "[[ 1  2  3  4  5  6  7  8]\n",
            " [ 9 10 11 12 13 14 15 16]]\n",
            "Reshaped matrix (4x4):\n",
            "[[ 1  2  3  4]\n",
            " [ 5  6  7  8]\n",
            " [ 9 10 11 12]\n",
            " [13 14 15 16]]\n",
            "Reshaped 3-D tensor (2x2x4):\n",
            "[[[ 1  2  3  4]\n",
            "  [ 5  6  7  8]]\n",
            "\n",
            " [[ 9 10 11 12]\n",
            "  [13 14 15 16]]]\n",
            "1-D vector:\n",
            "[ 1  2  3  4  5  6  7  8  9 10 11 12 13 14 15 16]\n"
          ],
          "name": "stdout"
        }
      ]
    },
    {
      "metadata": {
        "id": "RJVo52NdCtAp",
        "colab_type": "text"
      },
      "cell_type": "markdown",
      "source": [
        "### 练习 2：改变两个张量的形状，使其能够相乘。\n",
        "\n",
        "下面两个矢量无法进行矩阵乘法运算：\n",
        "\n",
        "  *  `a = tf.constant([5, 3, 2, 7, 1, 4])`\n",
        "  *  `b = tf.constant([4, 6, 3])`\n",
        "\n",
        "请改变这两个矢量的形状，使其成为可以进行矩阵乘法运算的运算数。\n",
        "然后，对变形后的张量调用矩阵乘法运算。"
      ]
    },
    {
      "metadata": {
        "id": "X5o76i7ZDD07",
        "colab_type": "code",
        "outputId": "8f9bd523-7a52-4f1e-bffa-fa3dace0be28",
        "colab": {
          "base_uri": "https://localhost:8080/",
          "height": 187
        }
      },
      "cell_type": "code",
      "source": [
        "a = tf.constant([5, 3, 2, 7, 1, 4])\n",
        "b = tf.constant([4, 6, 3])\n",
        "\n",
        "reshaped_a = tf.reshape(a, [2, 3])\n",
        "reshaped_b = tf.reshape(b, [3, 1])\n",
        "c = tf.matmul(reshaped_a, reshaped_b)\n",
        "\n",
        "print(\"reshaped_a (2x3):\")\n",
        "print(reshaped_a.numpy())\n",
        "print(\"reshaped_b (3x1):\")\n",
        "print(reshaped_b.numpy())\n",
        "print(\"reshaped_a x reshaped_b (2x1):\")\n",
        "print(c.numpy())"
      ],
      "execution_count": 0,
      "outputs": [
        {
          "output_type": "stream",
          "text": [
            "reshaped_a (2x3):\n",
            "[[5 3 2]\n",
            " [7 1 4]]\n",
            "reshaped_b (3x1):\n",
            "[[4]\n",
            " [6]\n",
            " [3]]\n",
            "reshaped_a x reshaped_b (2x1):\n",
            "[[44]\n",
            " [46]]\n"
          ],
          "name": "stdout"
        }
      ]
    },
    {
      "metadata": {
        "id": "nOcDGEHJDhPP",
        "colab_type": "text"
      },
      "cell_type": "markdown",
      "source": [
        "## 变量、初始化和赋值\n",
        "\n",
        "到目前为止，我们执行的所有运算都针对的是静态值 (`tf.constant`)；调用 `numpy()` 始终返回同一结果。在 TensorFlow 中可以定义 `Variable` 对象，它的值是可以更改的。\n",
        "\n",
        "创建变量时，您可以明确设置一个初始值，也可以使用初始化程序（例如分布）："
      ]
    },
    {
      "metadata": {
        "id": "7n0oJ34vDpje",
        "colab_type": "code",
        "outputId": "63f0702a-fe55-49cb-d64a-dfc45e846e9d",
        "colab": {
          "base_uri": "https://localhost:8080/",
          "height": 51
        }
      },
      "cell_type": "code",
      "source": [
        "# 创建初始值为3的标量变量\n",
        "v = tf.contrib.eager.Variable([3])\n",
        "\n",
        "# 创建一个形状为[1,4]的矢量变量，其初始值为随机的\n",
        "#从均值为1，标准差为0.35的正态分布中取样\n",
        "w = tf.contrib.eager.Variable(tf.random_normal([1, 4], mean=1.0, stddev=0.35))\n",
        "\n",
        "print(\"v:\", v.numpy())\n",
        "print(\"w:\", w.numpy())"
      ],
      "execution_count": 0,
      "outputs": [
        {
          "output_type": "stream",
          "text": [
            "v: [3]\n",
            "w: [[0.7752843 1.516361  1.1726708 0.9872638]]\n"
          ],
          "name": "stdout"
        }
      ]
    },
    {
      "metadata": {
        "id": "PAAfO0OoD79E",
        "colab_type": "text"
      },
      "cell_type": "markdown",
      "source": [
        "要更改变量的值，请使用 `assign` 操作，并且向变量赋予新值时，其形状必须和之前的形状一致。"
      ]
    },
    {
      "metadata": {
        "id": "MfnAoYEpD-Pf",
        "colab_type": "code",
        "outputId": "caf18d0e-9466-4247-cad4-67b609ed389e",
        "colab": {
          "base_uri": "https://localhost:8080/",
          "height": 136
        }
      },
      "cell_type": "code",
      "source": [
        "v = tf.contrib.eager.Variable([3])\n",
        "print(v.numpy())\n",
        "\n",
        "tf.assign(v, [7])\n",
        "print(v.numpy())\n",
        "\n",
        "v.assign([5])\n",
        "print(v.numpy())\n",
        "\n",
        "v = tf.contrib.eager.Variable([[1, 2, 3], [4, 5, 6]])\n",
        "print(v.numpy())\n",
        "\n",
        "try:\n",
        "  print(\"Assigning [7, 8, 9] to v\")\n",
        "  v.assign([7, 8, 9])\n",
        "except ValueError as e:\n",
        "  print(\"Exception:\", e)"
      ],
      "execution_count": 0,
      "outputs": [
        {
          "output_type": "stream",
          "text": [
            "[3]\n",
            "[7]\n",
            "[5]\n",
            "[[1 2 3]\n",
            " [4 5 6]]\n",
            "Assigning [7, 8, 9] to v\n",
            "Exception: Shapes (2, 3) and (3,) are incompatible\n"
          ],
          "name": "stdout"
        }
      ]
    },
    {
      "metadata": {
        "id": "HGfGX59ONT1h",
        "colab_type": "text"
      },
      "cell_type": "markdown",
      "source": [
        "### 练习 3：模拟投掷两个骰子 10 次。\n",
        "\n",
        "创建一个骰子模拟，在模拟中生成一个 `10x3` 二维张量，其中：\n",
        "\n",
        "  * 列 `1` 和 `2` 均存储一个六面骰子（值为 1-6）的一次投掷值。\n",
        "  * 列 `3` 存储同一行中列 `1` 和 `2` 的值的总和。\n",
        "\n",
        "例如，第一行中可能会包含以下值：\n",
        "\n",
        "  * 列 `1` 存储 `4`\n",
        "  * 列 `2` 存储 `3`\n",
        "  * 列 `3` 存储 `7`\n",
        "\n",
        "要完成此任务，您需要浏览 [TensorFlow 文档](https://www.tensorflow.org/api_guides/python/array_ops)。"
      ]
    },
    {
      "metadata": {
        "id": "67WVLPdONTcs",
        "colab_type": "code",
        "outputId": "e30031fe-0ba1-4d7f-c8cc-3ae3889e692c",
        "colab": {
          "base_uri": "https://localhost:8080/",
          "height": 204
        }
      },
      "cell_type": "code",
      "source": [
        "die1 = tf.contrib.eager.Variable(\n",
        "    tf.random_uniform([10, 1], minval=1, maxval=7, dtype=tf.int32))\n",
        "die2 = tf.contrib.eager.Variable(\n",
        "    tf.random_uniform([10, 1], minval=1, maxval=7, dtype=tf.int32))\n",
        "\n",
        "dice_sum = tf.add(die1, die2)\n",
        "resulting_matrix = tf.concat(values=[die1, die2, dice_sum], axis=1)\n",
        "\n",
        "print(resulting_matrix)"
      ],
      "execution_count": 0,
      "outputs": [
        {
          "output_type": "stream",
          "text": [
            "tf.Tensor(\n",
            "[[ 2  3  5]\n",
            " [ 5  6 11]\n",
            " [ 3  3  6]\n",
            " [ 5  6 11]\n",
            " [ 2  1  3]\n",
            " [ 6  5 11]\n",
            " [ 1  4  5]\n",
            " [ 1  1  2]\n",
            " [ 4  6 10]\n",
            " [ 5  4  9]], shape=(10, 3), dtype=int32)\n"
          ],
          "name": "stdout"
        }
      ]
    }
  ]
}