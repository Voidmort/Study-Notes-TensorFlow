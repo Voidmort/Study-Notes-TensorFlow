{
  "nbformat": 4,
  "nbformat_minor": 0,
  "metadata": {
    "colab": {
      "name": "TensorFlow 1.ipynb",
      "version": "0.3.2",
      "provenance": [],
      "collapsed_sections": [],
      "toc_visible": true,
      "include_colab_link": true
    },
    "kernelspec": {
      "name": "python3",
      "display_name": "Python 3"
    }
  },
  "cells": [
    {
      "cell_type": "markdown",
      "metadata": {
        "id": "view-in-github",
        "colab_type": "text"
      },
      "source": [
        "<a href=\"https://colab.research.google.com/github/Voidmort/Study-Notes-TensorFlow/blob/master/TensorFlow_1.ipynb\" target=\"_parent\"><img src=\"https://colab.research.google.com/assets/colab-badge.svg\" alt=\"Open In Colab\"/></a>"
      ]
    },
    {
      "metadata": {
        "id": "GmwMILXXAx2j",
        "colab_type": "text"
      },
      "cell_type": "markdown",
      "source": [
        "---\n",
        "title: TensorFlow 1\n",
        "date: 2018-12-26 15:10:00\n",
        "tags: Tensorflow\n",
        "categories: Tensorflow\n",
        "---"
      ]
    },
    {
      "metadata": {
        "id": "jjq4esQV11W9",
        "colab_type": "text"
      },
      "cell_type": "markdown",
      "source": [
        "# Hello World\n",
        "\n",
        "当tensorflow的环境搭建好后我们就可以尝试run下了，先写个hello world看看吧。"
      ]
    },
    {
      "metadata": {
        "id": "ZNXwNxGnA0Fl",
        "colab_type": "code",
        "outputId": "b166c18d-a7a6-432d-91dc-b1f7a0ec06b5",
        "colab": {
          "base_uri": "https://localhost:8080/",
          "height": 34
        }
      },
      "cell_type": "code",
      "source": [
        "from __future__ import print_function\n",
        "\n",
        "import tensorflow as tf\n",
        "try:\n",
        "    tf.contrib.eager.enable_eager_execution()\n",
        "except ValueError:\n",
        "    pass\n",
        "tensor = tf.constant('Hello, world!')\n",
        "tensor_value = tensor.numpy()\n",
        "print(tensor_value)\n"
      ],
      "execution_count": 0,
      "outputs": [
        {
          "output_type": "stream",
          "text": [
            "b'Hello, world!'\n"
          ],
          "name": "stdout"
        }
      ]
    },
    {
      "metadata": {
        "id": "54PE3aKy-Y16",
        "colab_type": "text"
      },
      "cell_type": "markdown",
      "source": [
        "# TensorFlow 编程概念\n",
        "TensorFlow的名称源自张量，张量是任意维度的数组。借助TensorFlow，可以操作具有很大维度的张量。\n",
        "\n",
        "    标量是零维数组（零阶张量）。例如：'hi' 或 3\n",
        "    矢量是一维数组（一阶张量）。例如：[2, 3, 5, 7, 11] 或 [3]\n",
        "    矩阵是二位数组（二阶张量）。例如：[[3.1, 8.2, 5.9][4.3, -2.7, 6.5]]\n",
        "    \n",
        "TensorFlow指令回创建，销毁和控制张量。典型TensorFlow程序中的大多数代码都是指令。\n",
        "TensorFlow图（也叫 计算图 或 数据流图）是一种图数据结构。很多TensorFlow程序由单个图构成，但是TensorFlow程序可以选择创建多个图。图的节点是指令；图的边是张量。张量流经图，在每个节点由一个指令操控。一个指令的输出张量通常回变成后续指令的输入张量。TensorFlow会实现延迟执行模型，意味着系统仅会根据相关节点的需求在需要时计算节点。\n",
        "\n",
        "张量可以作为常量或变量储存在图中。常量储存的是值是不会发生更改的张量，而变量储存的值是会发生更改的张量。常量和变量都只是图中的一种指令。常量是始终会返回同一张量值得指令。变量是会返回分配给得任何张量得指令。\n",
        "\n",
        "要定义常量，请使用tf.constant指令，并传入它的值。例如：\n",
        "    \n",
        "    x = tf.constant([1.2])\n",
        "    \n",
        "同样，可以创建变量：\n",
        "\n",
        "    y = tf.Variable([3])\n",
        "    \n",
        "    改变值： y = y.assign([1])\n",
        "    \n",
        "创建好变量或常量后，可以对它们使用其他指令（如tf.add）。\n",
        "\n",
        "图必须在TensorFlow会话中运行，会话储存了它所运行的图的状态：\n",
        "\n",
        "    将 tf.Session()作为会话：\n",
        "        initialization = tf.global_variables_initializer()\n",
        "        print(y.eval())\n",
        "        \n",
        "在使用tf.Variable时可以调用tf.global_variables_initializer，以明确初始化这些变量。\n",
        "\n",
        "注意：会话可以将图分发到多个机器上执行（假设程序在某个分布式计算框架上运行）。\n",
        "\n",
        "## 总结\n",
        "\n",
        "TensorFlow编程有两个流程：\n",
        "    \n",
        "    1.将常量，变量和指令整合到一个图中。\n",
        "    2.在一个会话中评估这些常量，变量和指令。\n",
        "    \n",
        "## 创建一个简单的 TensorFlow 程序\n",
        "\n",
        "我们来看看如何编写一个将两个常量相加的简单 TensorFlow 程序。\n",
        "\n",
        "### 添加 import 语句\n",
        "想要运行tensorflow程序，必须添加这句："
      ]
    },
    {
      "metadata": {
        "id": "eIPU-ge8aM_N",
        "colab_type": "code",
        "colab": {}
      },
      "cell_type": "code",
      "source": [
        "import tensorflow as tf"
      ],
      "execution_count": 0,
      "outputs": []
    },
    {
      "metadata": {
        "id": "IlTOlNNaaaob",
        "colab_type": "text"
      },
      "cell_type": "markdown",
      "source": [
        "其他常见的import语句包括：\n",
        "    \n",
        "    import matplotlib.pyplot as plt # 数据可视化\n",
        "    import numpy as np              # 较低级的数学python库\n",
        "    import pandas as pd             # 较高级的数学python库\n"
      ]
    },
    {
      "metadata": {
        "id": "jFs9jcAhbPYG",
        "colab_type": "code",
        "outputId": "fd53e2a8-6fbd-4df4-fe0c-fe824b86fd82",
        "colab": {
          "base_uri": "https://localhost:8080/",
          "height": 51
        }
      },
      "cell_type": "code",
      "source": [
        "from __future__ import print_function\n",
        "import tensorflow as tf\n",
        "\n",
        "# 创建一个图\n",
        "g = tf.Graph()\n",
        "\n",
        "with g.as_default():\n",
        "    # 创建三个量，\n",
        "    x = tf.constant(8, name=\"x_const\")\n",
        "    y = tf.constant(5, name=\"y_const\")\n",
        "    sum = tf.add(x, y, name=\"x_y_sum\")\n",
        "    \n",
        "    # 创建一个会话，将会执行默认图\n",
        "    with tf.Session() as sess:\n",
        "        print(sum.eval())"
      ],
      "execution_count": 0,
      "outputs": [
        {
          "output_type": "stream",
          "text": [
            "TF already imported with eager execution!\n",
            "13\n"
          ],
          "name": "stdout"
        }
      ]
    }
  ]
}